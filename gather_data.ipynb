{
 "cells": [
  {
   "cell_type": "markdown",
   "id": "eba3d0d4-7d2d-489d-b1bc-6f5d1d4754e8",
   "metadata": {},
   "source": [
    "## Import Libraries"
   ]
  },
  {
   "cell_type": "code",
   "execution_count": null,
   "id": "2426ef65-5284-4229-8ecf-6f2923f4338a",
   "metadata": {},
   "outputs": [],
   "source": [
    "import praw\n",
    "from scraper import API_KEY, API_SECRET, USERNAME, PASSWORD\n",
    "import pandas as pd"
   ]
  },
  {
   "cell_type": "markdown",
   "id": "0730b2b8-83e4-475c-9103-864cf155d37d",
   "metadata": {},
   "source": [
    "## PRAW/Reddit API"
   ]
  },
  {
   "cell_type": "code",
   "execution_count": null,
   "id": "c8700d6d-beda-4fbe-8556-bb8153dd897c",
   "metadata": {},
   "outputs": [],
   "source": [
    "reddit = praw.Reddit(\n",
    "    client_id=API_KEY,\n",
    "    client_secret=API_SECRET,\n",
    "    user_agent='YOUR_USER_AGENT',\n",
    "    username=USERNAME,\n",
    "    password=PASSWORD\n",
    ")"
   ]
  },
  {
   "cell_type": "code",
   "execution_count": null,
   "id": "826fac5e-ea98-40a9-86e7-5dd11d8df8e4",
   "metadata": {},
   "outputs": [],
   "source": [
    "def combine_data(posts, label):\n",
    "    data = []\n",
    "    for p in posts:\n",
    "        row = (p.created_utc, p.title, p.selftext)\n",
    "        data.append(row)\n",
    "        min_time = int(min(r[0] for r in data)) - 100_000\n",
    "    print(f'{label.upper()} POSTS :: N = {len(data)}')\n",
    "    return data"
   ]
  },
  {
   "cell_type": "markdown",
   "id": "cd0fa05f-0045-46c9-a41e-173e63b58ef5",
   "metadata": {},
   "source": [
    "## Collect Data From Subreddit"
   ]
  },
  {
   "cell_type": "code",
   "execution_count": null,
   "id": "8cf02921-f5ab-4478-ac9d-b625424b0f53",
   "metadata": {},
   "outputs": [],
   "source": [
    "subreddit = reddit.subreddit('')\n",
    "\n",
    "posts_new = subreddit.new(limit=1000)\n",
    "posts_hot = subreddit.hot(limit=1000)\n",
    "posts_top = subreddit.top(limit=1000)\n",
    "posts_con = subreddit.controversial(limit=1000)"
   ]
  },
  {
   "cell_type": "code",
   "execution_count": null,
   "id": "a6abc738-0d96-4f30-bb7f-2151963df5b5",
   "metadata": {},
   "outputs": [],
   "source": [
    "data_new = combine_data(posts_new, 'new')\n",
    "data_hot = combine_data(posts_hot, 'hot')\n",
    "data_top = combine_data(posts_top, 'top')\n",
    "data_con = combine_data(posts_con, 'controversial')"
   ]
  },
  {
   "cell_type": "markdown",
   "id": "81f4dd2e-4a6f-466b-9283-979411e3b699",
   "metadata": {},
   "source": [
    "## Create Subreddit DataFrame"
   ]
  },
  {
   "cell_type": "code",
   "execution_count": null,
   "id": "2b389571-b062-447c-80ba-e6f69041c930",
   "metadata": {},
   "outputs": [],
   "source": [
    "df = pd.DataFrame(data_new + data_hot + data_top + data_con, columns=['time', 'title', 'text'])"
   ]
  },
  {
   "cell_type": "code",
   "execution_count": null,
   "id": "2b93cf1f-17c3-4077-a59e-27a12b15bf04",
   "metadata": {},
   "outputs": [],
   "source": [
    "df.shape"
   ]
  },
  {
   "cell_type": "markdown",
   "id": "7305ca57-e004-4f68-a70c-1624d8761b03",
   "metadata": {},
   "source": [
    "## Save Data As CSV File"
   ]
  },
  {
   "cell_type": "code",
   "execution_count": null,
   "id": "1d986aec-55c5-41b4-9328-7a98b665edb5",
   "metadata": {},
   "outputs": [],
   "source": [
    "df.to_csv('./data/df_raw.csv', index=False)"
   ]
  }
 ],
 "metadata": {
  "kernelspec": {
   "display_name": "Python 3 (ipykernel)",
   "language": "python",
   "name": "python3"
  },
  "language_info": {
   "codemirror_mode": {
    "name": "ipython",
    "version": 3
   },
   "file_extension": ".py",
   "mimetype": "text/x-python",
   "name": "python",
   "nbconvert_exporter": "python",
   "pygments_lexer": "ipython3",
   "version": "3.10.9"
  }
 },
 "nbformat": 4,
 "nbformat_minor": 5
}
